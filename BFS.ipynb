{
  "nbformat": 4,
  "nbformat_minor": 0,
  "metadata": {
    "colab": {
      "provenance": [],
      "authorship_tag": "ABX9TyMdJC3rcdnx2NaN3HQek2+6",
      "include_colab_link": true
    },
    "kernelspec": {
      "name": "python3",
      "display_name": "Python 3"
    },
    "language_info": {
      "name": "python"
    }
  },
  "cells": [
    {
      "cell_type": "markdown",
      "metadata": {
        "id": "view-in-github",
        "colab_type": "text"
      },
      "source": [
        "<a href=\"https://colab.research.google.com/github/Srinivas-8612/Algorithm-and-analysis/blob/main/BFS.ipynb\" target=\"_parent\"><img src=\"https://colab.research.google.com/assets/colab-badge.svg\" alt=\"Open In Colab\"/></a>"
      ]
    },
    {
      "cell_type": "code",
      "execution_count": 1,
      "metadata": {
        "colab": {
          "base_uri": "https://localhost:8080/"
        },
        "id": "qt87FGLr6H_V",
        "outputId": "dc11545b-b814-4537-91e3-506a81b43c01"
      },
      "outputs": [
        {
          "output_type": "stream",
          "name": "stdout",
          "text": [
            "['A', 'B', 'D']\n"
          ]
        }
      ],
      "source": [
        "from collections import deque\n",
        "\n",
        "def bfs_shortest_path(graph, start, goal):\n",
        "    visited = set()\n",
        "    queue = deque([[start]])  # queue stores paths\n",
        "\n",
        "    while queue:\n",
        "        path = queue.popleft()\n",
        "        node = path[-1]\n",
        "\n",
        "        if node == goal:\n",
        "            return path  # shortest path mil gaya\n",
        "\n",
        "        if node not in visited:\n",
        "            for neighbor in graph[node]:\n",
        "                new_path = list(path)\n",
        "                new_path.append(neighbor)\n",
        "                queue.append(new_path)\n",
        "            visited.add(node)\n",
        "    return None\n",
        "\n",
        "# Example graph (dictionary format)\n",
        "graph = {\n",
        "    'A': ['B', 'C'],\n",
        "    'B': ['A', 'D', 'E'],\n",
        "    'C': ['A'],\n",
        "    'D': ['B'],\n",
        "    'E': ['B']\n",
        "}\n",
        "\n",
        "print(bfs_shortest_path(graph, 'A', 'D'))\n"
      ]
    },
    {
      "cell_type": "code",
      "source": [
        "from collections import deque\n",
        "\n",
        "def bfs(graph, start_node):\n",
        "    visited = set()  # To keep track of visited nodes\n",
        "    queue = deque([start_node])  # Initialize the queue with the starting node\n",
        "\n",
        "    visited.add(start_node)  # Mark the start node as visited\n",
        "\n",
        "    while queue:\n",
        "        current_node = queue.popleft()  # Dequeue the first node\n",
        "        print(current_node, end=\" \")  # Process the current node (e.g., print it)\n",
        "\n",
        "        # Explore neighbors\n",
        "        for neighbor in graph.get(current_node, []):  # Get neighbors of current_node\n",
        "            if neighbor not in visited:\n",
        "                visited.add(neighbor)\n",
        "                queue.append(neighbor)\n",
        "\n",
        "# Example Usage:\n",
        "graph = {\n",
        "    'A': ['B', 'C'],\n",
        "    'B': ['A', 'D', 'E'],\n",
        "    'C': ['A', 'F'],\n",
        "    'D': ['B'],\n",
        "    'E': ['B', 'F'],\n",
        "    'F': ['C', 'E']\n",
        "}\n",
        "\n",
        "print(\"BFS traversal starting from 'A':\")\n",
        "bfs(graph, 'A')"
      ],
      "metadata": {
        "colab": {
          "base_uri": "https://localhost:8080/"
        },
        "id": "Rv9OAbhP6W-E",
        "outputId": "e056be50-2179-4a1b-ca1b-328e6aa0c981"
      },
      "execution_count": 2,
      "outputs": [
        {
          "output_type": "stream",
          "name": "stdout",
          "text": [
            "BFS traversal starting from 'A':\n",
            "A B C D E F "
          ]
        }
      ]
    }
  ]
}