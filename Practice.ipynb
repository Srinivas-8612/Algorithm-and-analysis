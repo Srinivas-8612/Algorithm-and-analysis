{
  "nbformat": 4,
  "nbformat_minor": 0,
  "metadata": {
    "colab": {
      "provenance": [],
      "authorship_tag": "ABX9TyN2afROuwXLf3b48HMr/4LW",
      "include_colab_link": true
    },
    "kernelspec": {
      "name": "python3",
      "display_name": "Python 3"
    },
    "language_info": {
      "name": "python"
    }
  },
  "cells": [
    {
      "cell_type": "markdown",
      "metadata": {
        "id": "view-in-github",
        "colab_type": "text"
      },
      "source": [
        "<a href=\"https://colab.research.google.com/github/Srinivas-8612/Algorithm-and-analysis/blob/main/Practice.ipynb\" target=\"_parent\"><img src=\"https://colab.research.google.com/assets/colab-badge.svg\" alt=\"Open In Colab\"/></a>"
      ]
    },
    {
      "cell_type": "code",
      "execution_count": 1,
      "metadata": {
        "colab": {
          "base_uri": "https://localhost:8080/"
        },
        "id": "9hXhN-Qt2gW-",
        "outputId": "1f187625-d6ac-45c2-cf9f-6c46577bfd9c"
      },
      "outputs": [
        {
          "output_type": "stream",
          "name": "stdout",
          "text": [
            "{'b': 2, 'a': 6, 'n': 4, ' ': 1, 'd': 1}\n"
          ]
        }
      ],
      "source": [
        "text = \"banana bandana\"\n",
        "freq = {}\n",
        "for ch in text:\n",
        "    freq[ch] = freq.get(ch, 0) + 1\n",
        "\n",
        "print(freq)  # {'b':1, 'a':6, 'n':4, 'd':1, ' ':1}\n"
      ]
    },
    {
      "cell_type": "code",
      "source": [
        "name = \"SRINIVAS\"\n",
        "dict = {}\n",
        "\n",
        "for ch in name:\n",
        "  dict[ch] = dict.get(ch,0) + 1\n",
        "\n",
        "print(dict)"
      ],
      "metadata": {
        "colab": {
          "base_uri": "https://localhost:8080/"
        },
        "id": "l-ZyO0433U4Y",
        "outputId": "1d65971f-7386-4107-d4ec-a259742eba0b"
      },
      "execution_count": 2,
      "outputs": [
        {
          "output_type": "stream",
          "name": "stdout",
          "text": [
            "{'S': 2, 'R': 1, 'I': 2, 'N': 1, 'V': 1, 'A': 1}\n"
          ]
        }
      ]
    },
    {
      "cell_type": "code",
      "source": [
        "def search(input, element):\n",
        "  for index, value in enumerate(input):\n",
        "    if value == element:\n",
        "      return index\n",
        "\n",
        "  return -1\n",
        "\n",
        "input = [1,9,27,190,11,88]\n",
        "element = 9\n",
        "search(input,element)\n",
        ""
      ],
      "metadata": {
        "colab": {
          "base_uri": "https://localhost:8080/"
        },
        "id": "F0yo5vQD3pyv",
        "outputId": "865de015-d4cb-44e9-f608-240ced08d6ce"
      },
      "execution_count": 3,
      "outputs": [
        {
          "output_type": "execute_result",
          "data": {
            "text/plain": [
              "1"
            ]
          },
          "metadata": {},
          "execution_count": 3
        }
      ]
    }
  ]
}